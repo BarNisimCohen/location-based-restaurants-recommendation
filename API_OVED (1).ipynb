{
 "cells": [
  {
   "cell_type": "code",
   "execution_count": 30,
   "id": "85ce0790-9b23-4c19-999b-e25638a18a28",
   "metadata": {},
   "outputs": [
    {
     "name": "stdout",
     "output_type": "stream",
     "text": [
      "Collecting geopy\n",
      "  Downloading geopy-2.4.1-py3-none-any.whl.metadata (6.8 kB)\n",
      "Collecting geographiclib<3,>=1.52 (from geopy)\n",
      "  Downloading geographiclib-2.0-py3-none-any.whl.metadata (1.4 kB)\n",
      "Downloading geopy-2.4.1-py3-none-any.whl (125 kB)\n",
      "   ---------------------------------------- 0.0/125.4 kB ? eta -:--:--\n",
      "   --- ------------------------------------ 10.2/125.4 kB ? eta -:--:--\n",
      "   ------------------- ------------------- 61.4/125.4 kB 656.4 kB/s eta 0:00:01\n",
      "   -------------------------------------- 125.4/125.4 kB 921.6 kB/s eta 0:00:00\n",
      "Downloading geographiclib-2.0-py3-none-any.whl (40 kB)\n",
      "   ---------------------------------------- 0.0/40.3 kB ? eta -:--:--\n",
      "   ---------------------------------------- 40.3/40.3 kB 1.9 MB/s eta 0:00:00\n",
      "Installing collected packages: geographiclib, geopy\n",
      "Successfully installed geographiclib-2.0 geopy-2.4.1\n"
     ]
    }
   ],
   "source": [
    "!pip install geopy"
   ]
  },
  {
   "cell_type": "code",
   "execution_count": 1,
   "id": "b7f5b4fd-6d12-4a2d-99ad-baea2a55ed49",
   "metadata": {},
   "outputs": [],
   "source": [
    "import requests\n",
    "import geopy\n",
    "from geopy.geocoders import Nominatim\n",
    "import pandas as pd\n",
    "import numpy as np"
   ]
  },
  {
   "cell_type": "code",
   "execution_count": 2,
   "id": "ca8cf0f7-29ca-48b7-b6f0-ef1f96430984",
   "metadata": {},
   "outputs": [],
   "source": [
    "API_HOST = 'https://api.yelp.com'\n",
    "SEARCH_PATH = '/v3/businesses/search'\n",
    "BUSINESS_PATH = '/v3/businesses/'"
   ]
  },
  {
   "cell_type": "code",
   "execution_count": 3,
   "id": "4fbe6585-72df-4b90-9247-4351de59ad59",
   "metadata": {},
   "outputs": [
    {
     "name": "stdout",
     "output_type": "stream",
     "text": [
      "{\"error\": {\"code\": \"BUSINESS_NOT_FOUND\", \"description\": \"The requested business could not be found.\"}}\n"
     ]
    }
   ],
   "source": [
    "\n",
    "url = \"https://api.yelp.com/v3/businesses/business_id_or_alias/reviews?limit=20&sort_by=yelp_sort\"\n",
    "api_key = \"XhwAXVpj3nrNgikNQREOaW4XXyVvMBwQV_9L9mKp-kIawTch1UpoXOBhWPTr9Qnvar-FCz_8u4Dic3DMDXIy1o69Mm-Tj-hEFtTo5x84wY8YxxXjFhlVn4K9CFfjZXYx\"\n",
    "headers = {\n",
    "    \"accept\": \"application/json\",\n",
    "    'Authorization': 'Bearer %s' % api_key\n",
    "}\n",
    "\n",
    "response = requests.get(url, headers=headers)\n",
    "\n",
    "print(response.text)"
   ]
  },
  {
   "cell_type": "code",
   "execution_count": 4,
   "id": "4c7b8392-4c60-4c02-bea5-b9405c777168",
   "metadata": {},
   "outputs": [],
   "source": [
    "# DEFAULT_TERM = 'dinner'\n",
    "# DEFAULT_LOCATION = 'San Francisco, CA'\n",
    "# SEARCH_LIMIT = 3"
   ]
  },
  {
   "cell_type": "code",
   "execution_count": 5,
   "id": "70611a05-55f2-4824-b49a-52efe4666b44",
   "metadata": {},
   "outputs": [
    {
     "name": "stdout",
     "output_type": "stream",
     "text": [
      "Error: 400, {\"error\": {\"code\": \"VALIDATION_ERROR\", \"description\": \"['20', '20'] is not of type 'integer'\", \"field\": \"limit\", \"instance\": [\"20\", \"20\"]}}\n"
     ]
    }
   ],
   "source": [
    "def search_yelp(api_key, term, location):\n",
    "    \n",
    "    endpoint = \"https://api.yelp.com/v3/businesses/search\"\n",
    "    headers = {\n",
    "        \"Authorization\": f\"Bearer {api_key}\"\n",
    "    }\n",
    "    for offset in range(0,1000,20):\n",
    "        params = {\n",
    "            \"term\": term.replace(' ', '+'),\n",
    "            \"location\": location.replace(' ', '+'),\n",
    "            \"limit\": 20,\n",
    "            \"offset\": offset\n",
    "        }\n",
    "        response = requests.get(url,headers = headers, params = params)\n",
    "\n",
    "    # Check if the request was successful (status code 200)\n",
    "        if response.status_code == 200:\n",
    "        # Parse the JSON response\n",
    "            data+= response.json()['businesses']\n",
    "        \n",
    "    #df = pd.json_normalize(data)\n",
    "        # Extract and print relevant information for the top 20 restaurants\n",
    "        # for index, business in enumerate(data.get(\"businesses\", []), start=1):\n",
    "        #     print(f\"{index}. Name: {business.get('name')}\")\n",
    "        #     print(f\"   Rating: {business.get('rating')}\")\n",
    "        #     print(f\"   Address: {', '.join(business.get('location', {}).get('display_address', []))}\")\n",
    "        #     print(f\"   Phone: {business.get('phone')}\")\n",
    "        #     print(f\"   ID: {business.get('id')}\")\n",
    "        #     print(f\"   The category is: {business.get('categories')}\")\n",
    "        #     print(f\"   is_open_now: {business.get('is_open')}\")\n",
    "        #      # print(\"   The review count is: \",business.get(\"review_count\"))\n",
    "        #      # print(\"-----\")\n",
    "    else:\n",
    "         print(f\"Error: {response.status_code}, {response.text}\")\n",
    "        \n",
    "search_yelp(api_key, 'term', 'IL')\n"
   ]
  },
  {
   "cell_type": "code",
   "execution_count": 114,
   "id": "ad67ee98-d2b7-451d-8ae0-dd78ab812be4",
   "metadata": {},
   "outputs": [
    {
     "ename": "NameError",
     "evalue": "name 'location' is not defined",
     "output_type": "error",
     "traceback": [
      "\u001b[1;31m---------------------------------------------------------------------------\u001b[0m",
      "\u001b[1;31mNameError\u001b[0m                                 Traceback (most recent call last)",
      "Cell \u001b[1;32mIn[114], line 22\u001b[0m\n\u001b[0;32m     19\u001b[0m             \u001b[38;5;28;01mbreak\u001b[39;00m\n\u001b[0;32m     21\u001b[0m     \u001b[38;5;28;01mreturn\u001b[39;00m data\n\u001b[1;32m---> 22\u001b[0m get_businesses(location, term, api_key)\n",
      "\u001b[1;31mNameError\u001b[0m: name 'location' is not defined"
     ]
    }
   ],
   "source": [
    "def get_businesses(location, term, api_key):\n",
    "    headers = {'Authorization': 'Bearer %s' % api_key}\n",
    "    url = 'https://api.yelp.com/v3/businesses/search'\n",
    "\n",
    "    data = []\n",
    "    for offset in range(0, 1000, 50):\n",
    "        params = {\n",
    "            'limit': 50, \n",
    "            'location': location.replace(' ', '+'),\n",
    "            'term': term.replace(' ', '+'),\n",
    "            'offset': offset\n",
    "        }\n",
    "\n",
    "        response = requests.get(url, headers=headers, params=params)\n",
    "        if response.status_code == 200:\n",
    "            data += response.json()['businesses']\n",
    "        elif response.status_code == 400:\n",
    "            print('400 Bad Request')\n",
    "            break\n",
    "\n",
    "    return data\n",
    "get_businesses(, term, api_key)"
   ]
  },
  {
   "cell_type": "code",
   "execution_count": 39,
   "id": "78f00388-8a16-4bb3-b12c-aaf1c12da5fa",
   "metadata": {},
   "outputs": [
    {
     "name": "stdout",
     "output_type": "stream",
     "text": [
      "1303, West Elmdale Avenue, Edgewater Glen, Edgewater, Chicago, Lake View Township, Cook County, Illinois, 60660, United States\n",
      "Latitude =  41.99080446647168\n",
      "Longitude =  -87.66293008241215\n"
     ]
    }
   ],
   "source": [
    "# calling the Nominatim tool and create Nominatim class\n",
    "loc = Nominatim(user_agent=\"Geopy Library\")\n",
    "\n",
    "# entering the location name\n",
    "getLoc = loc.geocode(\"1303 W Elmdale Ave\")\n",
    "\n",
    "# printing address\n",
    "print(getLoc.address)\n",
    "\n",
    "# printing latitude and longitude\n",
    "print(\"Latitude = \", getLoc.latitude)\n",
    "print(\"Longitude = \", getLoc.longitude)"
   ]
  },
  {
   "cell_type": "code",
   "execution_count": 56,
   "id": "2d992d23-af93-494b-bf00-cf1ea642b270",
   "metadata": {},
   "outputs": [
    {
     "ename": "KeyError",
     "evalue": "0",
     "output_type": "error",
     "traceback": [
      "\u001b[1;31m---------------------------------------------------------------------------\u001b[0m",
      "\u001b[1;31mKeyError\u001b[0m                                  Traceback (most recent call last)",
      "Cell \u001b[1;32mIn[56], line 3\u001b[0m\n\u001b[0;32m      1\u001b[0m data \u001b[38;5;241m=\u001b[39m response\u001b[38;5;241m.\u001b[39mjson()\n\u001b[0;32m      2\u001b[0m \u001b[38;5;28;01mfor\u001b[39;00m i \u001b[38;5;129;01min\u001b[39;00m \u001b[38;5;28mrange\u001b[39m(\u001b[38;5;28mlen\u001b[39m(data)):\n\u001b[1;32m----> 3\u001b[0m     \u001b[38;5;28mprint\u001b[39m(data[i])\n",
      "\u001b[1;31mKeyError\u001b[0m: 0"
     ]
    }
   ],
   "source": [
    "data = response.json()\n",
    "for i in range(len(data)):\n",
    "    print(data[i])"
   ]
  },
  {
   "cell_type": "code",
   "execution_count": 14,
   "id": "59e919b9-868d-4af1-8caa-79195a4f0caf",
   "metadata": {},
   "outputs": [
    {
     "name": "stdout",
     "output_type": "stream",
     "text": [
      "initial offset number: 0\n",
      "current offset number: 50\n",
      "current offset number: 100\n",
      "current offset number: 150\n",
      "current offset number: 200\n",
      "current offset number: 250\n",
      "current offset number: 300\n",
      "current offset number: 350\n",
      "current offset number: 400\n",
      "current offset number: 450\n",
      "current offset number: 500\n",
      "current offset number: 550\n",
      "current offset number: 600\n",
      "current offset number: 650\n",
      "current offset number: 700\n",
      "current offset number: 750\n",
      "current offset number: 800\n",
      "current offset number: 850\n",
      "current offset number: 900\n",
      "current offset number: 950\n",
      "current offset number: 1000\n",
      "\n",
      "query includes 1,000 rows and 16 columns.\n",
      "row id is unique: False.\n",
      "\n",
      "duplicates found: ['Taiwanese Yummy', 'Peri Peri Grill House', 'Moono', 'Celestine', 'Tonchin'].\n",
      "dropping duplicates...\n",
      "\n",
      "row id is unique: True.\n",
      "query includes 903 rows and 16 columns.\n"
     ]
    }
   ],
   "source": [
    "# empty list to place our data for each page\n",
    "lst = []\n",
    "API_KEY = \"XhwAXVpj3nrNgikNQREOaW4XXyVvMBwQV_9L9mKp-kIawTch1UpoXOBhWPTr9Qnvar-FCz_8u4Dic3DMDXIy1o69Mm-Tj-hEFtTo5x84wY8YxxXjFhlVn4K9CFfjZXYx\"\n",
    "# our offset parameter - each page 50 rows\n",
    "offset = 0\n",
    "print('initial offset number: {}'.format(offset))\n",
    "\n",
    "# loop through the api 20 times (limit is 1000 rows with each page includes 50 rows)\n",
    "for i in range(20):\n",
    "    \n",
    "    try:\n",
    "        headers = {'Authorization': 'Bearer {}'.format(API_KEY)}\n",
    "        search_api_url = 'https://api.yelp.com/v3/businesses/search'\n",
    "        params = {'term': 'food', \n",
    "                  'categories': 'restaurants',\n",
    "                  'location': 'NYC',\n",
    "                  'offset': offset,\n",
    "                  'limit': 50}\n",
    "\n",
    "        response = requests.get(search_api_url, \n",
    "                                headers=headers, \n",
    "                                params=params, \n",
    "                                timeout=10)\n",
    "\n",
    "        # return a dictionary\n",
    "        data_dict = response.json()\n",
    "        \n",
    "        # convert the business dictionary to a pandas dataframe and append to list\n",
    "        data = pd.DataFrame(data_dict['businesses'])\n",
    "        lst.append(data)\n",
    "      \n",
    "        # add 50 to the offset to access a new page\n",
    "        offset += 50\n",
    "        print('current offset number: {}'.format(offset))\n",
    "        \n",
    "    except Exception as ex:\n",
    "        print('exception: {}\\nexit loop.'.format(ex))\n",
    "        break\n",
    "\n",
    "# concatenate all pages to one dataframe and reset index\n",
    "df = pd.concat(lst)\n",
    "df = df.reset_index(drop=True)\n",
    "\n",
    "# review shape of dataframe\n",
    "rows, columns = df.shape\n",
    "print()\n",
    "print('query includes {:,} rows and {} columns.'.format(rows, columns))\n",
    "print('row id is unique: {}.'.format(df['id'].is_unique))\n",
    "\n",
    "# review if dataframe id is unique, if not drop duplicates\n",
    "if df['id'].is_unique == False:\n",
    "    duplicates = df.loc[df.duplicated(subset=['id'])]\n",
    "    vals = list(duplicates.head()['name'].values)\n",
    "    print('\\nduplicates found: {}.'.format(vals))\n",
    "    \n",
    "    df = df.drop_duplicates(subset=['id']).reset_index(drop=True)\n",
    "    print('dropping duplicates...')\n",
    "    \n",
    "    rows, columns = df.shape\n",
    "    print('\\nrow id is unique: {}.'.format(df['id'].is_unique))\n",
    "    print('query includes {:,} rows and {} columns.'.format(rows, columns))"
   ]
  },
  {
   "cell_type": "code",
   "execution_count": 29,
   "id": "586a709c-b96b-4b49-bda4-182c65e7ea23",
   "metadata": {},
   "outputs": [
    {
     "name": "stdout",
     "output_type": "stream",
     "text": [
      "id                 0\n",
      "alias              0\n",
      "name               0\n",
      "image_url          0\n",
      "is_closed          0\n",
      "url                0\n",
      "review_count       0\n",
      "categories         0\n",
      "rating             0\n",
      "coordinates        0\n",
      "transactions       0\n",
      "price            399\n",
      "location           0\n",
      "phone              0\n",
      "display_phone      0\n",
      "distance           0\n",
      "longitude          0\n",
      "latitude           0\n",
      "address_1          1\n",
      "address_2        314\n",
      "address_3        417\n",
      "address_4        903\n",
      "address_5        903\n",
      "address_6        903\n",
      "address_7        903\n",
      "address_8        903\n",
      "dtype: int64\n"
     ]
    }
   ],
   "source": [
    "\n",
    "df[[\"latitude\",\"longitude\"]] = df[\"coordinates\"].apply(pd.Series)\n",
    "#df[[\"address1\",\"address2\"]] = df[\"location\"].apply(pd.Series)\n",
    "max_num_addresses = df['location'].apply(lambda x: len(x) if isinstance(x, dict) else 0).max()\n",
    "\n",
    "for i in range(1, max_num_addresses + 1):\n",
    "    col_name = f'address_{i}'\n",
    "    df[col_name] = df['location'].apply(lambda x: x[f'address{i}'] if isinstance(x, dict) and f'address{i}' in x else None)\n",
    "\n",
    "df.head()\n",
    "none_count = df.isna().sum()\n",
    "print(none_count)"
   ]
  },
  {
   "cell_type": "code",
   "execution_count": null,
   "id": "070896b8-bc66-4cfc-a152-cf6376261b17",
   "metadata": {},
   "outputs": [],
   "source": []
  }
 ],
 "metadata": {
  "kernelspec": {
   "display_name": "Python 3 (ipykernel)",
   "language": "python",
   "name": "python3"
  },
  "language_info": {
   "codemirror_mode": {
    "name": "ipython",
    "version": 3
   },
   "file_extension": ".py",
   "mimetype": "text/x-python",
   "name": "python",
   "nbconvert_exporter": "python",
   "pygments_lexer": "ipython3",
   "version": "3.11.7"
  }
 },
 "nbformat": 4,
 "nbformat_minor": 5
}
